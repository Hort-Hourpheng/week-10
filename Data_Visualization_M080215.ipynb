{
 "cells": [
  {
   "cell_type": "code",
   "execution_count": null,
   "metadata": {},
   "outputs": [],
   "source": [
    "import numpy as np\n",
    "import pandas as pd\n",
    "import matplotlib.pyplot as plt\n",
    "import seaborn as sns\n",
    "sns.set()\n",
    "import datetime as dt\n",
    "#Load data\n",
    "df=pd.read_csv(\"./kc_house_data.csv\")\n",
    "df"
   ]
  },
  {
   "cell_type": "markdown",
   "metadata": {},
   "source": [
    "| Variable      | Description                                                                                                 |\n",
    "| ------------- | ----------------------------------------------------------------------------------------------------------- |\n",
    "| id            | A notation for a house                                                                                      |\n",
    "| date          | Date house was sold                                                                                         |\n",
    "| price         | Price is prediction target                                                                                  |\n",
    "| bedrooms      | Number of bedrooms                                                                                          |\n",
    "| bathrooms     | Number of bathrooms                                                                                         |\n",
    "| sqft_living   | Square footage of the home                                                                                  |\n",
    "| sqft_lot      | Square footage of the lot                                                                                   |\n",
    "| floors        | Total floors (levels) in house                                                                              |\n",
    "| waterfront    | House which has a view to a waterfront                                                                      |\n",
    "| view          | Has been viewed                                                                                             |\n",
    "| condition     | How good the condition is overall                                                                           |\n",
    "| grade         | overall grade given to the housing unit, based on King County grading system                                |\n",
    "| sqft_above    | Square footage of house apart from basement                                                                 |\n",
    "| sqft_basement | Square footage of the basement                                                                              |\n",
    "| yr_built      | Built Year                                                                                                  |\n",
    "| yr_renovated  | Year when house was renovated                                                                               |\n",
    "| zipcode       | Zip code                                                                                                    |\n",
    "| lat           | Latitude coordinate                                                                                         |\n",
    "| long          | Longitude coordinate                                                                                        |\n",
    "| sqft_living15 | Living room area in 2015(implies-- some renovations) This might or might not have affected the lotsize area |\n",
    "| sqft_lot15    | LotSize area in 2015(implies-- some renovations)                                                            |"
   ]
  },
  {
   "cell_type": "code",
   "execution_count": null,
   "metadata": {},
   "outputs": [],
   "source": [
    "df[\"yr_renovated\"].value_counts()"
   ]
  },
  {
   "cell_type": "code",
   "execution_count": null,
   "metadata": {},
   "outputs": [],
   "source": [
    "# def to_age():\n",
    "#     to_age=2023-yr_built_or_reno\n",
    "#     if df[\"yr_renovated\"]==0: \n",
    "#         yr_built_or_reno=df[\"yr_built\"]\n",
    "#     else:\n",
    "#         yr_built_or_reno=df[\"yr_renovated\"]\n",
    "#         return to_age\n"
   ]
  },
  {
   "cell_type": "code",
   "execution_count": null,
   "metadata": {},
   "outputs": [],
   "source": [
    "# df[\"yr_renovated\"].apply(to_age)"
   ]
  },
  {
   "cell_type": "code",
   "execution_count": null,
   "metadata": {},
   "outputs": [],
   "source": [
    "df[\"age\"]=2023-df[\"yr_built\"]"
   ]
  },
  {
   "cell_type": "code",
   "execution_count": null,
   "metadata": {},
   "outputs": [],
   "source": [
    "df[\"age\"]"
   ]
  },
  {
   "cell_type": "code",
   "execution_count": null,
   "metadata": {},
   "outputs": [],
   "source": [
    "df[\"yr_built\"].value_counts()"
   ]
  },
  {
   "cell_type": "code",
   "execution_count": null,
   "metadata": {},
   "outputs": [],
   "source": [
    "df_og=df.copy()"
   ]
  },
  {
   "cell_type": "code",
   "execution_count": null,
   "metadata": {},
   "outputs": [],
   "source": [
    "df.info()"
   ]
  },
  {
   "cell_type": "code",
   "execution_count": null,
   "metadata": {},
   "outputs": [],
   "source": [
    "df.drop(columns=[\"id\",\"lat\",\"long\",\"zipcode\"],inplace=True)\n",
    "df"
   ]
  },
  {
   "cell_type": "code",
   "execution_count": null,
   "metadata": {},
   "outputs": [],
   "source": [
    "df[\"date\"]=pd.to_datetime(df[\"date\"])"
   ]
  },
  {
   "cell_type": "code",
   "execution_count": null,
   "metadata": {},
   "outputs": [],
   "source": [
    "df.isna().sum()"
   ]
  },
  {
   "cell_type": "code",
   "execution_count": null,
   "metadata": {},
   "outputs": [],
   "source": [
    "df.duplicated().sum()"
   ]
  },
  {
   "cell_type": "code",
   "execution_count": null,
   "metadata": {},
   "outputs": [],
   "source": [
    "df.info()"
   ]
  },
  {
   "cell_type": "code",
   "execution_count": null,
   "metadata": {},
   "outputs": [],
   "source": [
    "for column in df.select_dtypes(include='number').columns.tolist() :\n",
    "    plt.figure(figsize=(15,7))\n",
    "    plt.subplot(1,2,1)\n",
    "    plt.title('dist plot of '+column, fontsize=15)\n",
    "    sns.distplot(df[column],bins=15)\n",
    "    plt.subplot(1,2,2)\n",
    "    plt.title('Boxplot of '+column, fontsize=15)\n",
    "    sns.boxplot(data = df[column], palette=\"Dark2\")\n",
    "    plt.show()  "
   ]
  },
  {
   "cell_type": "code",
   "execution_count": null,
   "metadata": {},
   "outputs": [],
   "source": [
    "df_capped=df.copy()"
   ]
  },
  {
   "cell_type": "code",
   "execution_count": null,
   "metadata": {},
   "outputs": [],
   "source": [
    "for column in df_capped.select_dtypes(include='number').columns.tolist() :\n",
    "    Q1 = df_capped[column].quantile(0.25)\n",
    "    Q3 = df_capped[column].quantile(0.75)\n",
    "    IQR = Q3 - Q1\n",
    "    max_limit = Q3 + (1.5 * IQR)\n",
    "    min_limit = Q1 - (1.5 * IQR) \n",
    "    df_capped[column] = pd.DataFrame(np.where(df_capped[column] > max_limit, max_limit, \n",
    "         (np.where(df_capped[column] < min_limit, min_limit, df_capped[column]))), columns=[column])"
   ]
  },
  {
   "cell_type": "code",
   "execution_count": null,
   "metadata": {},
   "outputs": [],
   "source": [
    "for column in df_capped.select_dtypes(include='number').columns.tolist() :\n",
    "    plt.figure(figsize=(15,7))\n",
    "    plt.subplot(1,2,1)\n",
    "    plt.title('dist plot of '+column, fontsize=15)\n",
    "    sns.distplot(df_capped[column],bins=15)\n",
    "    plt.subplot(1,2,2)\n",
    "    plt.title('Boxplot of '+column, fontsize=15)\n",
    "    sns.boxplot(data = df_capped[column], palette=\"Dark2\")\n",
    "    plt.show()  "
   ]
  },
  {
   "cell_type": "code",
   "execution_count": null,
   "metadata": {},
   "outputs": [],
   "source": [
    "df.describe().T"
   ]
  },
  {
   "cell_type": "code",
   "execution_count": null,
   "metadata": {},
   "outputs": [],
   "source": [
    "df_capped.describe().T"
   ]
  },
  {
   "cell_type": "code",
   "execution_count": null,
   "metadata": {},
   "outputs": [],
   "source": [
    "df_capped[\"X1 transaction date\"].value_counts()"
   ]
  },
  {
   "cell_type": "code",
   "execution_count": null,
   "metadata": {},
   "outputs": [],
   "source": [
    "ax1=sns.histplot(df_capped[\"X1 transaction date\"],bins=12,kde=False)\n",
    "ax1.bar_label(ax1.containers[0], fmt=lambda x: f'{x:0.0f}' if x > 0 else '', label_type='edge')"
   ]
  },
  {
   "cell_type": "code",
   "execution_count": null,
   "metadata": {},
   "outputs": [],
   "source": [
    "df_capped[\"X2 house age\"].max()"
   ]
  },
  {
   "cell_type": "code",
   "execution_count": null,
   "metadata": {},
   "outputs": [],
   "source": [
    "ax2=sns.histplot(df_capped[\"X2 house age\"],bins=4)\n",
    "ax2.bar_label(ax2.containers[0], fmt=lambda x: f'{x:0.0f}' if x > 0 else '', label_type='edge')"
   ]
  },
  {
   "cell_type": "code",
   "execution_count": null,
   "metadata": {},
   "outputs": [],
   "source": [
    "ax3=sns.histplot(df_capped[\"X3 distance to the nearest MRT station\"],bins=6)\n",
    "ax3.bar_label(ax3.containers[0], fmt=lambda x: f'{x:0.0f}' if x > 0 else '', label_type='edge')"
   ]
  },
  {
   "cell_type": "code",
   "execution_count": null,
   "metadata": {},
   "outputs": [],
   "source": [
    "ax4=sns.histplot(df_capped[\"X4 number of convenience stores\"],bins=5)\n",
    "ax4.bar_label(ax4.containers[0], fmt=lambda x: f'{x:0.0f}' if x > 0 else '', label_type='edge')"
   ]
  },
  {
   "cell_type": "code",
   "execution_count": null,
   "metadata": {},
   "outputs": [],
   "source": [
    "ay=sns.histplot(df_capped[\"Y house price of unit area\"],bins=5)\n",
    "ay.bar_label(ay.containers[0], fmt=lambda x: f'{x:0.0f}' if x > 0 else '', label_type='edge')"
   ]
  },
  {
   "cell_type": "code",
   "execution_count": null,
   "metadata": {},
   "outputs": [],
   "source": [
    "timeseres_x1_y=sns.lineplot(x=df_capped[\"X1 transaction date\"],y=df_capped[\"Y house price of unit area\"],marker=\"*\",markerfacecolor='Red', markersize=10)\n",
    "timeseres_x1_y.set_title(label=\"Time Series between Transaction Date and House Price\")\n",
    "timeseres_x1_y.set_xlabel(xlabel=\"Transaction Date\")\n",
    "timeseres_x1_y.set_ylabel(ylabel=\"House Price of unit area\")"
   ]
  },
  {
   "cell_type": "code",
   "execution_count": null,
   "metadata": {},
   "outputs": [],
   "source": [
    "df_capped[[\"X1 transaction date\"]]=df_capped[[\"X1 transaction date\"]].astype(\"category\")"
   ]
  },
  {
   "cell_type": "code",
   "execution_count": null,
   "metadata": {},
   "outputs": [],
   "source": [
    "df_capped.info()"
   ]
  },
  {
   "cell_type": "code",
   "execution_count": null,
   "metadata": {},
   "outputs": [],
   "source": [
    "sns.countplot(df_capped[\"X1 transaction date\"])"
   ]
  },
  {
   "cell_type": "code",
   "execution_count": null,
   "metadata": {},
   "outputs": [],
   "source": [
    "sns.pairplot(df_capped)"
   ]
  },
  {
   "cell_type": "code",
   "execution_count": null,
   "metadata": {},
   "outputs": [],
   "source": [
    "print(sns.heatmap.__doc__)"
   ]
  },
  {
   "cell_type": "code",
   "execution_count": null,
   "metadata": {},
   "outputs": [],
   "source": [
    "# annot= true value in boxes\n",
    "# cmap=\"blues\", \"coolwarm\"\n",
    "# cbar=(0,1) 0 no cbar ,1 have cbar\n",
    "# linewidth size of line between the boxes\n",
    "# cmap viridis , coolwarm, Blues, Rdbu....\n",
    "# xticklabels, yticklabels"
   ]
  },
  {
   "cell_type": "code",
   "execution_count": null,
   "metadata": {},
   "outputs": [],
   "source": [
    "cr=df_capped.corr(numeric_only=True)\n",
    "sns.heatmap(cr,annot=True,cmap=\"coolwarm\")"
   ]
  },
  {
   "cell_type": "code",
   "execution_count": null,
   "metadata": {},
   "outputs": [],
   "source": [
    "matrix=np.triu(cr)\n",
    "sns.heatmap(\n",
    "    cr,\n",
    "    annot=True,\n",
    "    cmap=\"RdBu\",\n",
    "    vmin=-1,\n",
    "    center=0,\n",
    "    vmax=1,\n",
    "    cbar=1,\n",
    "    linewidths=2,\n",
    "    square=True,\n",
    "    mask=matrix,\n",
    "    xticklabels=['X1','X2','X3','X4','X5','X6'],\n",
    "    yticklabels=\"auto\"\n",
    ")\n",
    "plt.title(\"heatmap of X1 and Y\")"
   ]
  },
  {
   "cell_type": "code",
   "execution_count": null,
   "metadata": {},
   "outputs": [],
   "source": [
    "col=df.columns.to_list()"
   ]
  },
  {
   "cell_type": "code",
   "execution_count": null,
   "metadata": {},
   "outputs": [],
   "source": [
    "fig, hm=plt.subplots()\n",
    "hm.set_xticklabels(col)\n",
    "hm.set_yticklabels(col)\n",
    "plt.pcolormesh(cr, cmap='RdBu',vmin=-1,vmax=1)\n",
    "plt.title(\"Heatmap of X1 and Y\")\n",
    "plt.setp(hm.get_xticklabels(),rotation=45,ha=\"right\",\n",
    "         rotation_mode=\"anchor\")\n",
    "plt.setp(hm.get_yticklabels(),rotation=0,ha=\"right\")\n",
    "plt.colorbar()\n",
    "plt.show()\n"
   ]
  },
  {
   "cell_type": "code",
   "execution_count": null,
   "metadata": {},
   "outputs": [],
   "source": [
    "df_capped.drop(columns=[\"X2 house age\",\"X6 longitude\"],inplace=True)"
   ]
  },
  {
   "cell_type": "code",
   "execution_count": null,
   "metadata": {},
   "outputs": [],
   "source": [
    "from sklearn import linear_model\n",
    "from sklearn.model_selection import train_test_split\n",
    "data_x = df_capped.iloc[:,1 : -1]\n",
    "data_y = df_capped.iloc[:, -1]\n",
    "x_train,x_test,y_train,y_test=train_test_split(data_x,data_y,test_size=0.2, random_state=21,shuffle=True)\n",
    "LR=linear_model.LinearRegression()\n",
    "LR.fit(x_train,y_train)"
   ]
  },
  {
   "cell_type": "code",
   "execution_count": null,
   "metadata": {},
   "outputs": [],
   "source": [
    "import statsmodels.api as sm\n",
    "\n",
    "LR.fit(x_train,y_train)\n",
    "y_pred=LR.predict(x_test)\n",
    "y_train_pred=LR.predict(x_train)\n",
    "x_train=sm.add_constant(x_train)\n",
    "model=sm.OLS(y_train,x_train).fit()\n",
    "print(model.summary())"
   ]
  },
  {
   "cell_type": "code",
   "execution_count": null,
   "metadata": {},
   "outputs": [],
   "source": [
    "x_test=sm.add_constant(x_test)\n",
    "model1=sm.OLS(y_test,x_test).fit()\n",
    "print(model1.summary())"
   ]
  },
  {
   "cell_type": "code",
   "execution_count": null,
   "metadata": {},
   "outputs": [],
   "source": [
    "for column in data_x.select_dtypes(include='number').columns.tolist() :\n",
    "    plt.figure(figsize=(15,7))\n",
    "    plt.subplot(1,2,1)\n",
    "    sns.regplot(x=x_train[column],y=y_train)\n",
    "    plt.show()  "
   ]
  },
  {
   "cell_type": "code",
   "execution_count": null,
   "metadata": {},
   "outputs": [],
   "source": [
    "LR.intercept_"
   ]
  },
  {
   "cell_type": "code",
   "execution_count": null,
   "metadata": {},
   "outputs": [],
   "source": [
    "LR.coef_"
   ]
  },
  {
   "cell_type": "markdown",
   "metadata": {},
   "source": [
    "Clustering ,"
   ]
  }
 ],
 "metadata": {
  "kernelspec": {
   "display_name": "Python 3",
   "language": "python",
   "name": "python3"
  },
  "language_info": {
   "codemirror_mode": {
    "name": "ipython",
    "version": 3
   },
   "file_extension": ".py",
   "mimetype": "text/x-python",
   "name": "python",
   "nbconvert_exporter": "python",
   "pygments_lexer": "ipython3",
   "version": "3.11.5"
  }
 },
 "nbformat": 4,
 "nbformat_minor": 2
}
